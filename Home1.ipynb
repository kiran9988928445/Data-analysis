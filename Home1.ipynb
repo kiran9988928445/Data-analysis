{
 "cells": [
  {
   "cell_type": "markdown",
   "id": "c5eb39c0",
   "metadata": {},
   "source": [
    "# 1. How would you define the overall performance of the sales team?"
   ]
  },
  {
   "cell_type": "code",
   "execution_count": 55,
   "id": "1b2d24a2",
   "metadata": {},
   "outputs": [],
   "source": [
    "import pandas as pd"
   ]
  },
  {
   "cell_type": "code",
   "execution_count": 32,
   "id": "532d46c3",
   "metadata": {},
   "outputs": [],
   "source": [
    "import seaborn as sns\n",
    "import matplotlib.pyplot as plt\n",
    "from sklearn.preprocessing import LabelEncoder\n",
    "from sklearn.model_selection import train_test_split\n",
    "from sklearn import metrics\n",
    "import os,sys\n",
    "from scipy import stats"
   ]
  },
  {
   "cell_type": "code",
   "execution_count": 54,
   "id": "64cf98de",
   "metadata": {},
   "outputs": [],
   "source": [
    "df =pd.read_csv('H1 - DATA.csv')\n"
   ]
  },
  {
   "cell_type": "code",
   "execution_count": 34,
   "id": "28ea0c11",
   "metadata": {},
   "outputs": [
    {
     "name": "stdout",
     "output_type": "stream",
     "text": [
      "                       Opprtunity Name      Sales Manager                SDR   \n",
      "0        Sterlite Technologies Limited   Sameer Iftekhari     Nilesh Dhanani  \\\n",
      "1        Sterlite Technologies Limited   Sameer Iftekhari     Nilesh Dhanani   \n",
      "2                     Bilcare Research      Rakesh Zadage    Sanket Kulkarni   \n",
      "3    Stetig Consulting Private Limited        Omkar Ghate      Sarvesh Pawar   \n",
      "4                          Shubham Biz        Omkar Ghate      Sarvesh Pawar   \n",
      "..                                 ...                ...                ...   \n",
      "163              Sarvatra Technologies  Siddhartha Khatua     Satyajit Chati   \n",
      "164                         Rich Panel      Aditya Binani      Bharti Bankey   \n",
      "165  vCommission Media Private Limited     Prasoon Mishra     Satyajit Chati   \n",
      "166  SG CNC Microtech Pvt. Ltd.(Fresh)  Siddhartha Khatua  Siddhartha Khatua   \n",
      "167  SG CNC Microtech Pvt. Ltd.(Fresh)  Siddhartha Khatua     Satyajit Chati   \n",
      "\n",
      "        City    Deal Size                   Lead Source  Employee Count   \n",
      "0       Pune  179,946,920  Gated Content; Warm Referral          6000.0  \\\n",
      "1       Pune       43,730  Gated Content; Warm Referral          6000.0   \n",
      "2       Pune    1,900,000                     Cold Call           255.0   \n",
      "3       Pune      220,450                     Cold Call            91.0   \n",
      "4       Pune      450,000                     Cold Call           120.0   \n",
      "..       ...          ...                           ...             ...   \n",
      "163     Pune       50,740                     Cold Call           356.0   \n",
      "164   Mumbai      165,000                       Inbound            35.0   \n",
      "165  Gurgaon      345,501                     Cold Call           155.0   \n",
      "166     Pune       11,210                     Cold Call            30.0   \n",
      "167     Pune      230,000                     Cold Call            30.0   \n",
      "\n",
      "                     Status                                         Industry  \n",
      "0    Won- Payment Completed  IT Services & IT Consulting; Telecommunications  \n",
      "1    Won- Payment Completed  IT Services & IT Consulting; Telecommunications  \n",
      "2    Won- Payment Completed                                    Manufacturing  \n",
      "3    Won- Payment Completed                      IT Services & IT Consulting  \n",
      "4    Won- Payment Completed                                           Others  \n",
      "..                      ...                                              ...  \n",
      "163  Won- Payment Completed                      IT Services & IT Consulting  \n",
      "164  Won- Payment Completed                                              NaN  \n",
      "165  Won- Payment Completed                  Digital Marketing & Advertising  \n",
      "166  Won- Payment Completed                                    Manufacturing  \n",
      "167  Won- Payment Completed                                    Manufacturing  \n",
      "\n",
      "[168 rows x 9 columns]\n"
     ]
    }
   ],
   "source": [
    "print(df)"
   ]
  },
  {
   "cell_type": "code",
   "execution_count": 35,
   "id": "dcf33c32",
   "metadata": {},
   "outputs": [
    {
     "data": {
      "text/html": [
       "<div>\n",
       "<style scoped>\n",
       "    .dataframe tbody tr th:only-of-type {\n",
       "        vertical-align: middle;\n",
       "    }\n",
       "\n",
       "    .dataframe tbody tr th {\n",
       "        vertical-align: top;\n",
       "    }\n",
       "\n",
       "    .dataframe thead th {\n",
       "        text-align: right;\n",
       "    }\n",
       "</style>\n",
       "<table border=\"1\" class=\"dataframe\">\n",
       "  <thead>\n",
       "    <tr style=\"text-align: right;\">\n",
       "      <th></th>\n",
       "      <th>Opprtunity Name</th>\n",
       "      <th>Sales Manager</th>\n",
       "      <th>SDR</th>\n",
       "      <th>City</th>\n",
       "      <th>Deal Size</th>\n",
       "      <th>Lead Source</th>\n",
       "      <th>Employee Count</th>\n",
       "      <th>Status</th>\n",
       "      <th>Industry</th>\n",
       "    </tr>\n",
       "  </thead>\n",
       "  <tbody>\n",
       "    <tr>\n",
       "      <th>0</th>\n",
       "      <td>Sterlite Technologies Limited</td>\n",
       "      <td>Sameer Iftekhari</td>\n",
       "      <td>Nilesh Dhanani</td>\n",
       "      <td>Pune</td>\n",
       "      <td>179,946,920</td>\n",
       "      <td>Gated Content; Warm Referral</td>\n",
       "      <td>6000.0</td>\n",
       "      <td>Won- Payment Completed</td>\n",
       "      <td>IT Services &amp; IT Consulting; Telecommunications</td>\n",
       "    </tr>\n",
       "    <tr>\n",
       "      <th>1</th>\n",
       "      <td>Sterlite Technologies Limited</td>\n",
       "      <td>Sameer Iftekhari</td>\n",
       "      <td>Nilesh Dhanani</td>\n",
       "      <td>Pune</td>\n",
       "      <td>43,730</td>\n",
       "      <td>Gated Content; Warm Referral</td>\n",
       "      <td>6000.0</td>\n",
       "      <td>Won- Payment Completed</td>\n",
       "      <td>IT Services &amp; IT Consulting; Telecommunications</td>\n",
       "    </tr>\n",
       "    <tr>\n",
       "      <th>2</th>\n",
       "      <td>Bilcare Research</td>\n",
       "      <td>Rakesh Zadage</td>\n",
       "      <td>Sanket Kulkarni</td>\n",
       "      <td>Pune</td>\n",
       "      <td>1,900,000</td>\n",
       "      <td>Cold Call</td>\n",
       "      <td>255.0</td>\n",
       "      <td>Won- Payment Completed</td>\n",
       "      <td>Manufacturing</td>\n",
       "    </tr>\n",
       "    <tr>\n",
       "      <th>3</th>\n",
       "      <td>Stetig Consulting Private Limited</td>\n",
       "      <td>Omkar Ghate</td>\n",
       "      <td>Sarvesh Pawar</td>\n",
       "      <td>Pune</td>\n",
       "      <td>220,450</td>\n",
       "      <td>Cold Call</td>\n",
       "      <td>91.0</td>\n",
       "      <td>Won- Payment Completed</td>\n",
       "      <td>IT Services &amp; IT Consulting</td>\n",
       "    </tr>\n",
       "    <tr>\n",
       "      <th>4</th>\n",
       "      <td>Shubham Biz</td>\n",
       "      <td>Omkar Ghate</td>\n",
       "      <td>Sarvesh Pawar</td>\n",
       "      <td>Pune</td>\n",
       "      <td>450,000</td>\n",
       "      <td>Cold Call</td>\n",
       "      <td>120.0</td>\n",
       "      <td>Won- Payment Completed</td>\n",
       "      <td>Others</td>\n",
       "    </tr>\n",
       "  </tbody>\n",
       "</table>\n",
       "</div>"
      ],
      "text/plain": [
       "                     Opprtunity Name     Sales Manager              SDR  City   \n",
       "0      Sterlite Technologies Limited  Sameer Iftekhari   Nilesh Dhanani  Pune  \\\n",
       "1      Sterlite Technologies Limited  Sameer Iftekhari   Nilesh Dhanani  Pune   \n",
       "2                   Bilcare Research     Rakesh Zadage  Sanket Kulkarni  Pune   \n",
       "3  Stetig Consulting Private Limited       Omkar Ghate    Sarvesh Pawar  Pune   \n",
       "4                        Shubham Biz       Omkar Ghate    Sarvesh Pawar  Pune   \n",
       "\n",
       "     Deal Size                   Lead Source  Employee Count   \n",
       "0  179,946,920  Gated Content; Warm Referral          6000.0  \\\n",
       "1       43,730  Gated Content; Warm Referral          6000.0   \n",
       "2    1,900,000                     Cold Call           255.0   \n",
       "3      220,450                     Cold Call            91.0   \n",
       "4      450,000                     Cold Call           120.0   \n",
       "\n",
       "                   Status                                         Industry  \n",
       "0  Won- Payment Completed  IT Services & IT Consulting; Telecommunications  \n",
       "1  Won- Payment Completed  IT Services & IT Consulting; Telecommunications  \n",
       "2  Won- Payment Completed                                    Manufacturing  \n",
       "3  Won- Payment Completed                      IT Services & IT Consulting  \n",
       "4  Won- Payment Completed                                           Others  "
      ]
     },
     "execution_count": 35,
     "metadata": {},
     "output_type": "execute_result"
    }
   ],
   "source": [
    "df.head(5)"
   ]
  },
  {
   "cell_type": "code",
   "execution_count": 61,
   "id": "aabe3d16",
   "metadata": {},
   "outputs": [
    {
     "name": "stdout",
     "output_type": "stream",
     "text": [
      "Total Sales: 179,946,92043,7301,900,000220,450450,000389,053477,74852,8007,850,000518,96890,62430,400,73512,637,428450,00014,950100,11920,150127,880990,00014,827990,000522,750171,4291,944,449224,900231,11811,21047,79064,58840,000544,437200,00033,820550,000250,00016,124150,000211,5426,4003,706,6074,400,00022,140,761298,600169,858259,000735,00078,000730,0002,548,4694,61018,671364,63588,500312,114254,2371,034,000500,00025,641229,00011,500195,00018,200,0002,587,4285,039,60216,8372,361410,000148,0002,968,711919,237124,000500,0001,400,00059,47527,547563,43641,000135,000143,00666,5002,022,000762,71212,1781,150,000211,8642,724,0003,202,703234,4034,800,00075,00029,580272,000253,0619,975250,0001,241,50065,00011,500132,6876,250,6553,700,00043,777555,000245,6591,867,380317,223973,685600,0006,4001,445,000190,000432,1691,984,759711,864358,229131,00071,00070,0001,300,00042,750193,0002,500,000250,000596,6893,697,702324,1609,600,0002,500,0001,850,000280,000702,703681,200131,11345,653110,3305,868,12585,0004,000,000205,000102,801100,0004,300,0003,084,777325,208182,7821,493,885110,00047,458560,195605,00062,363540,0001,900,000800,00016,80853,30074,400313,5161,449,999294,500430,0001,898,8162,830,00050,740165,000345,50111,210230,000\n"
     ]
    }
   ],
   "source": [
    "total_sales = df['Deal Size'].sum()\n",
    "print(f\"Total Sales: {total_sales}\")"
   ]
  },
  {
   "cell_type": "code",
   "execution_count": 64,
   "id": "ee4a5ce5",
   "metadata": {},
   "outputs": [
    {
     "name": "stdout",
     "output_type": "stream",
     "text": [
      "Total Deals Closed: 168\n"
     ]
    }
   ],
   "source": [
    "total_deals = len(df[df['Status'] == 'Won- Payment Completed'])\n",
    "print(f\"Total Deals Closed: {total_deals}\")"
   ]
  },
  {
   "cell_type": "code",
   "execution_count": 70,
   "id": "c7d02e8c",
   "metadata": {},
   "outputs": [
    {
     "name": "stdout",
     "output_type": "stream",
     "text": [
      "Average Deal Size: nan\n"
     ]
    }
   ],
   "source": [
    "df['Deal Size'] = pd.to_numeric(df['Deal Size'], errors='coerce')\n",
    "\n",
    "average_deal_size = df[df['Status'] == 'Won- Payment Completed']['Deal Size'].mean()\n",
    "print(f\"Average Deal Size: {average_deal_size}\")\n"
   ]
  },
  {
   "cell_type": "markdown",
   "id": "1c442728",
   "metadata": {},
   "source": [
    "# 2. What are they doing well, what are they doing wrong? "
   ]
  },
  {
   "cell_type": "code",
   "execution_count": 71,
   "id": "c815089d",
   "metadata": {},
   "outputs": [
    {
     "name": "stdout",
     "output_type": "stream",
     "text": [
      "Total Deals Won: 168\n"
     ]
    }
   ],
   "source": [
    "total_deals_won = len(df[df['Status'] == 'Won- Payment Completed'])\n",
    "print(f\"Total Deals Won: {total_deals_won}\")"
   ]
  },
  {
   "cell_type": "code",
   "execution_count": 73,
   "id": "78567425",
   "metadata": {},
   "outputs": [
    {
     "name": "stdout",
     "output_type": "stream",
     "text": [
      "\n",
      "Deals Closed by Sales Manager:\n"
     ]
    }
   ],
   "source": [
    "deals_by_manager = df[df['Status'] == 'Won- Payment Completed'].groupby('Sales Manager')['Deal Size'].sum()\n",
    "print(\"\\nDeals Closed by Sales Manager:\")"
   ]
  },
  {
   "cell_type": "code",
   "execution_count": 76,
   "id": "f4c529eb",
   "metadata": {},
   "outputs": [
    {
     "name": "stdout",
     "output_type": "stream",
     "text": [
      "\n",
      "Small Deals (below 100,000):\n",
      "Empty DataFrame\n",
      "Columns: [Opprtunity Name, Sales Manager, SDR, City, Deal Size, Lead Source, Employee Count, Status, Industry]\n",
      "Index: []\n"
     ]
    }
   ],
   "source": [
    "small_deals = df[(df['Status'] == 'Won- Payment Completed') & (df['Deal Size'] < 100000)]\n",
    "print(\"\\nSmall Deals (below 100,000):\")\n",
    "print(small_deals)"
   ]
  },
  {
   "cell_type": "code",
   "execution_count": 75,
   "id": "30d02fef",
   "metadata": {},
   "outputs": [
    {
     "name": "stdout",
     "output_type": "stream",
     "text": [
      "\n",
      "Lead Sources for Small Deals:\n",
      "Series([], Name: Deal Size, dtype: float64)\n"
     ]
    }
   ],
   "source": [
    "small_deal_sources = small_deals.groupby('Lead Source')['Deal Size'].sum()\n",
    "print(\"\\nLead Sources for Small Deals:\")\n",
    "print(small_deal_sources)"
   ]
  },
  {
   "cell_type": "markdown",
   "id": "4650401b",
   "metadata": {},
   "source": [
    "# 3. What will your recommendations to this team to improve their  performance?"
   ]
  }
 ],
 "metadata": {
  "kernelspec": {
   "display_name": "Python 3 (ipykernel)",
   "language": "python",
   "name": "python3"
  },
  "language_info": {
   "codemirror_mode": {
    "name": "ipython",
    "version": 3
   },
   "file_extension": ".py",
   "mimetype": "text/x-python",
   "name": "python",
   "nbconvert_exporter": "python",
   "pygments_lexer": "ipython3",
   "version": "3.9.16"
  }
 },
 "nbformat": 4,
 "nbformat_minor": 5
}
